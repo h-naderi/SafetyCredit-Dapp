{
 "cells": [
  {
   "cell_type": "code",
   "execution_count": null,
   "metadata": {
    "id": "ZFQoXp98bGk0"
   },
   "outputs": [],
   "source": [
    "#EXPERIMENT FOR COMPANY A , B , C \n",
    "#need to change path to json file for each company everytime that need to run this code\n",
    "#in this demo, we use the model to run 9 test images folder , 3 folders of images from each company\n",
    "#dataset of test images available in google drive(test dataset)\n",
    "#https://drive.google.com/drive/folders/1qtN8mNCxzts1BvIVrpshjnRjpd3C1jLD?usp=sharing"
   ]
  },
  {
   "cell_type": "code",
   "execution_count": null,
   "metadata": {
    "colab": {
     "base_uri": "https://localhost:8080/"
    },
    "id": "NmasnwBsbOaw",
    "outputId": "631aa2c6-2312-40ad-9c93-d350ad208951"
   },
   "outputs": [
    {
     "name": "stdout",
     "output_type": "stream",
     "text": [
      "Drive already mounted at /content/drive; to attempt to forcibly remount, call drive.mount(\"/content/drive\", force_remount=True).\n"
     ]
    }
   ],
   "source": []
  },
  {
   "cell_type": "code",
   "execution_count": null,
   "metadata": {
    "id": "Fi75s_csbOXk"
   },
   "outputs": [],
   "source": [
    "import torch\n",
    "import cv2\n",
    "import torch\n",
    "from PIL import Image\n",
    "import pandas as pd"
   ]
  },
  {
   "cell_type": "markdown",
   "metadata": {
    "id": "UahK9nK6eD75"
   },
   "source": [
    "### ** Helmet Detection Project Workflow**"
   ]
  },
  {
   "cell_type": "markdown",
   "metadata": {
    "id": "8Q95TsrDeBv_"
   },
   "source": [
    "\n",
    "0.load the model (.pt) , from training part\n",
    "\n",
    "1.detect multiple image from a folder\n",
    "\n",
    "2.load previous saved data from json file ()\n",
    "\n",
    "3.get the new data in this particular test\n",
    "\n",
    "4.update the data and send back to to the json file (Company report)\n",
    "\n",
    "5.upload json file to Pinata IPFS , obtain a CID link\n",
    "\n",
    "6.write CID link to another json file . SafetyReport"
   ]
  },
  {
   "cell_type": "code",
   "execution_count": null,
   "metadata": {
    "id": "2rpAXYEobOSe"
   },
   "outputs": [],
   "source": [
    "\n",
    "# load model.pt from previous training\n",
    "# make sure to set the correct directory to the model.pt , json file,  and the datset \n",
    "# the direction of the saved predicted images can be changed in the detect.py file , from the clone folder \n",
    "\n",
    "import json\n",
    "model = torch.hub.load('ultralytics/yolov5', 'custom', path='/content/drive/MyDrive/helmet_detect/best_yet.pt', force_reload=True)\n",
    "\n",
    "# set the path to directory of the test folder\n",
    "directory=\"/content/drive/My Drive/helmet_detect/demo/companyC/pic3/\"\n",
    "\n",
    "##run prediction , will output the predicted image with boundig box , can change the output directory in detect.py\n",
    "!python \"/content/drive/My Drive/helmet_detect/yolov5/detect.py\" --source \"/content/drive/My Drive/helmet_detect/demo/companyC/pic3/*.jpg\" --weights \"/content/drive/MyDrive/helmet_detect/best_yet.pt\"\n",
    "\n",
    "\n",
    "##run prediction, will output string data/information about the prediction\n",
    "\n",
    "print(\"  \")\n",
    "print(\"  \")\n",
    "print(\"***RESULT******RESULT******RESULT******RESULT******RESULT***\")\n",
    "print(\"  \")\n",
    "print(\"  \")\n",
    "pic=0\n",
    "import pathlib\n",
    "for filepath in pathlib.Path(directory).glob('**/*'):\n",
    "    pic+=1\n",
    "    print(\"****************TEST FROM PICUTRE NUMBER{} ****************\".format(pic))\n",
    "    print(filepath.absolute())\n",
    "    results = model(filepath.absolute())\n",
    "    #print(results)\n",
    "    #results.print() \n",
    "    #results.xyxy[0] \n",
    "    #results.pandas().xyxy[0]\n",
    "    #print(results.pandas().xyxy[0])\n",
    "    #results.pandas().xyxy[0].value_counts('name')\n",
    "    #print(results.pandas().xyxy[0].value_counts('name'))\n",
    "\n",
    "    totalpeople = len(results.pandas().xyxy[0])\n",
    "    i=0\n",
    "    g=0\n",
    "    b=0\n",
    "    sp=0\n",
    "    totalconfi=0\n",
    "    while i < totalpeople:\n",
    "      xmin,ymin,xmax,ymax,confi,cla = results.xyxy[0][i].cpu().numpy()\n",
    "      if cla==0:g+=1\n",
    "      if cla==1:b+=1\n",
    "      totalconfi+=confi\n",
    "      i+=1\n",
    "    averageconfi=totalconfi/totalpeople\n",
    "    sp=g/totalpeople\n",
    "\n",
    "    print(\"  \")\n",
    "    print(\"PREVIOUS RECORD\")\n",
    "\n",
    "    #x = open('/content/drive/My Drive/helmet_detect/data.json')\n",
    "    x = open('/content/drive/My Drive/helmet_detect/demo/companyC/companyC.json')\n",
    "    olddata = json.load(x)\n",
    "    type(olddata)\n",
    "    SCVisionReport = olddata.get('SCVisionReport')\n",
    "    type(olddata)\n",
    "    old_total_people= olddata.get('SCVisionReport').get('totalObserved')\n",
    "    old_g=olddata.get('SCVisionReport').get('safeObservation')\n",
    "    old_b=olddata.get('SCVisionReport').get('unsafeObservation')\n",
    "    old_averageconfi=olddata.get('SCVisionReport').get('DetectionConfidenceScore')\n",
    "    old_num_test=olddata.get('SCVisionReport').get('totalPics')\n",
    "    old_sp=olddata.get('SCVisionReport').get('safetyPerformance')\n",
    "\n",
    "\n",
    "\n",
    "\n",
    "    old_num_test = old_num_test or 0\n",
    "\n",
    "    if old_num_test>0: old_num_test=old_num_test\n",
    "    old_total_people = old_total_people or 0\n",
    "    old_g = old_g or 0\n",
    "    old_b = old_b or 0\n",
    "    old_averageconfi = old_averageconfi or 0\n",
    "    old_sp=old_sp or 0\n",
    "    if old_total_people==0: old_num_test==0\n",
    "\n",
    "    print(\"Previous number of observation {} \".format(int(old_num_test)))\n",
    "    print(\"Previous Total number of people : \",int(old_total_people))\n",
    "    print(\"Previous number of people wearning safety helmet {}.\".format(int(old_g)))\n",
    "    print(\"Previous number ofpeople not wearning safety helmet {}.\".format(int(old_b)))\n",
    "    print(\"Previous safety performance {} \".format(float(old_sp)))\n",
    "    print(\"Previous Current confidence score of the detection is {} \".format(float(old_averageconfi)))\n",
    "   \n",
    "    print(\"  \")\n",
    "    print(\"RESULT FROM THIS IMAGE\")\n",
    "    print(\"Total number of people in this picture is \",totalpeople)\n",
    "    print(\"There are {} people wearning safety helmet.\".format(g))\n",
    "    print(\"There are {} people not wearning safety helmet.\".format(b))\n",
    "    print(\"safety performance {} \".format(float(sp)))\n",
    "    print(\"The confidence score of the detection in this picture is {} \".format(averageconfi))\n",
    "  \n",
    "\n",
    "    \n",
    "\n",
    "    new_total_people = int(old_total_people)+totalpeople\n",
    "    new_g= int(old_g) + g\n",
    "    new_b= int(old_b) + b\n",
    "    num_test=old_num_test\n",
    "    if num_test==0:\n",
    "      new_averageconfi=averageconfi\n",
    "    else: new_averageconfi= ((old_averageconfi) + (averageconfi))/2\n",
    "    \n",
    "    if num_test==0:\n",
    "      new_sp=sp\n",
    "    else: new_sp= (new_g/new_total_people)*100\n",
    "\n",
    "    num_test= num_test+1\n",
    "\n",
    "\n",
    "    newreport= {\n",
    "    \"SCVisionReport\":{'reportID': 'B-1',\n",
    "    'reportPeriod': '2022-07-01 : 2022-07-08',\n",
    "    'totalPics': num_test,\n",
    "     'totalObserved': new_total_people,\n",
    "    'safeObservation': new_g,\n",
    "    'unsafeObservation': new_b,\n",
    "    'exampleSCVOutput': '',\n",
    "    'safetyPerformance': new_sp,\n",
    "    'DetectionConfidenceScore': new_averageconfi}}\n",
    "\n",
    "    olddata.update(newreport)\n",
    "\n",
    "    with open('/content/drive/My Drive/helmet_detect/demo/companyC/companyC.json', 'w') as f:\n",
    "      json.dump(olddata, f)\n",
    "\n",
    "\n",
    "    print(\"  \")\n",
    "\n",
    "    print(\"************NEW UPDATED RECORD************\")\n",
    "    print(\"Current total number of observation {} \".format(int(num_test)))\n",
    "    print(\"Current Total number of people detected \",new_total_people)\n",
    "    print(\"Current total number of people wearning safety helmet {}.\".format(new_g))\n",
    "    print(\"Current total number of people not wearning safety helmet {}.\".format(new_b))\n",
    "    print(\"Current safety performance {}.\".format(new_sp))\n",
    "    print(\"Current confidence score of the detection is {} \".format(new_averageconfi))\n",
    "    print(\"*************************************************************************\")\n",
    "    print(\"  \")\n",
    "    print(\"  \")\n",
    "    print(\"  \")\n",
    "    print(\"  \")\n",
    "    print(\"  \")\n",
    "    print(\"  \")\n",
    "    print(\"  \")\n",
    "\n",
    "print(\"  \")\n",
    "print(\"  \")\n",
    "print(\"DETECTION COMPLETED\")\n",
    "print(\"  \")\n",
    "print(\"  \")\n",
    "\n",
    "\n",
    "####done\"\"\"\n",
    "    \n",
    "\n",
    "    \n",
    "    \n",
    "\n",
    "    "
   ]
  },
  {
   "cell_type": "code",
   "execution_count": null,
   "metadata": {
    "id": "nw3bRDPHbOMC"
   },
   "outputs": [],
   "source": [
    "## user can input their own , pinata api key and pinata secret api key that link to their pinata account"
   ]
  },
  {
   "cell_type": "code",
   "execution_count": null,
   "metadata": {
    "id": "Wy98D104bN5v"
   },
   "outputs": [],
   "source": [
    "from requests import Session, Request\n",
    "from os import walk, path, sep\n",
    "\n",
    "## this function will return the link to the uploaded file\n",
    "\n",
    "def upload_json_ipfs(directory):\n",
    "    # directory is the abs path of dir\n",
    "    \n",
    "    #directory = '/Users/reachsak/Desktop/go_jupiter/data.json'\n",
    "    \n",
    "    files = [('file',('data.json',open(directory,'rb'),'application/octet-stream'))]\n",
    "    \n",
    "    ipfs_url = \"https://api.pinata.cloud/pinning/pinFileToIPFS\"\n",
    "    headers = {\n",
    "        'user-agent': 'Mozilla/5.0 (Windows NT 10.0; Win64; x64) AppleWebKit/537.36 (KHTML, like Gecko) Chrome/88.0.4324.146 Safari/537.36',\n",
    "        'pinata_api_key': \"cf32561bbc2438043cb0\",\n",
    "        'pinata_secret_api_key': \"cc3f7757705866ebbd0492b35b1cbccaee951f0ca75a3d9ad5ea571c2f45a244\"\n",
    "    }\n",
    "    # directory.split(sep)[-1] is the name of directory\n",
    "\n",
    "    request = Request(\n",
    "        'POST',\n",
    "        ipfs_url,\n",
    "        headers=headers,\n",
    "        files=files\n",
    "    ).prepare()\n",
    "    response = Session().send(request)\n",
    "    print(response.request.url)\n",
    "    print(response.request.headers)\n",
    "    print(response.request.body)\n",
    "    print(response.json())\n",
    "    print(\"hash of this file is \")\n",
    "    \n",
    "\n",
    "    print(response.json()['IpfsHash'])\n",
    "    \n",
    "    hash=response.json()['IpfsHash']\n",
    "    \n",
    "    #gateway=\"https://ipfs.io/ipfs/\"\n",
    "    gateway=\"https://gateway.pinata.cloud/ipfs/\"\n",
    "    website=gateway+response.json()['IpfsHash']\n",
    "    print(\"link to the your file on ipfs is \")\n",
    "    print(website)\n",
    "    return website\n",
    "\n",
    "    "
   ]
  },
  {
   "cell_type": "code",
   "execution_count": null,
   "metadata": {
    "colab": {
     "base_uri": "https://localhost:8080/"
    },
    "id": "nv56Zy5Jbmfy",
    "outputId": "cb8dbb42-3c05-416e-9484-a839b863cc5f"
   },
   "outputs": [
    {
     "name": "stdout",
     "output_type": "stream",
     "text": [
      "https://api.pinata.cloud/pinning/pinFileToIPFS\n",
      "{'user-agent': 'Mozilla/5.0 (Windows NT 10.0; Win64; x64) AppleWebKit/537.36 (KHTML, like Gecko) Chrome/88.0.4324.146 Safari/537.36', 'pinata_api_key': 'cf32561bbc2438043cb0', 'pinata_secret_api_key': 'cc3f7757705866ebbd0492b35b1cbccaee951f0ca75a3d9ad5ea571c2f45a244', 'Content-Length': '712', 'Content-Type': 'multipart/form-data; boundary=4ed526d9fa985dc169eedcc9e8883994'}\n",
      "b'--4ed526d9fa985dc169eedcc9e8883994\\r\\nContent-Disposition: form-data; name=\"file\"; filename=\"data.json\"\\r\\nContent-Type: application/octet-stream\\r\\n\\r\\n{\"status\": 1, \"metaData\": {\"name\": \"Company C\", \"companyType\": \"contractor\", \"city\": \"Tehran\", \"projectName\": \"Tehran Bridge\", \"workingTimeFrom\": \"9AM\", \"workingTimeTo\": \"5PM\"}, \"visionInfo\": {\"number\": 3, \"registerDate\": \"2022-06-30\"}, \"SCVisionReport\": {\"reportID\": \"B-1\", \"reportPeriod\": \"2022-07-01 : 2022-07-08\", \"totalPics\": 25, \"totalObserved\": 125, \"safeObservation\": 121, \"unsafeObservation\": 4, \"exampleSCVOutput\": \"\", \"safetyPerformance\": 96.8, \"DetectionConfidenceScore\": 0.8814929365830058}, \"previousCID\": \"null\"}\\r\\n--4ed526d9fa985dc169eedcc9e8883994--\\r\\n'\n",
      "{'IpfsHash': 'QmXQbB9ACrpie55TjGcoBUg3Xb1udM5MyYyMDuByjtrsHj', 'PinSize': 538, 'Timestamp': '2022-09-30T23:44:15.089Z'}\n",
      "hash of this file is \n",
      "QmXQbB9ACrpie55TjGcoBUg3Xb1udM5MyYyMDuByjtrsHj\n",
      "link to the your file on ipfs is \n",
      "https://gateway.pinata.cloud/ipfs/QmXQbB9ACrpie55TjGcoBUg3Xb1udM5MyYyMDuByjtrsHj\n"
     ]
    }
   ],
   "source": [
    "# get the ipfs link for the uploaded file\n",
    "link = upload_json_ipfs(\"/content/drive/My Drive/helmet_detect/demo/companyC/companyC.json\")"
   ]
  },
  {
   "cell_type": "code",
   "execution_count": null,
   "metadata": {
    "id": "mXT6SPyfbqgm"
   },
   "outputs": [],
   "source": [
    "# create a dictionary for the updated link\n",
    "#Company A account address: 0xb0a8416D9E6e30CeAD6a598Eef4Cc88d56b1EBAe\n",
    "#Company B account address: 0xA17Dab0082162079409fD87747CF3eBAd4BfD534\n",
    "#Company C account address: 0x4c8Db719e7037919647a59E380397A55c53dE4E4\n",
    "\n",
    "updated_CID_link= {\n",
    "    \"id\": 1,\n",
    "    \"status\": 0,\n",
    "    \"reportNum\": 3,\n",
    "    \"companyAddress\": \"0x4c8Db719e7037919647a59E380397A55c53dE4E4\",\n",
    "    \"reportCID\": link\n",
    "  }\n",
    "\n"
   ]
  },
  {
   "cell_type": "code",
   "execution_count": null,
   "metadata": {
    "id": "nB2ikuoUczvs"
   },
   "outputs": [],
   "source": [
    "import json\n",
    "s = open('/content/drive/My Drive/helmet_detect/demo/safeReport.json')"
   ]
  },
  {
   "cell_type": "code",
   "execution_count": null,
   "metadata": {
    "id": "G0PyF3Ftc1Qv"
   },
   "outputs": [],
   "source": [
    "# load data of the previous safety report\n",
    "sdata=json.load(s)"
   ]
  },
  {
   "cell_type": "code",
   "execution_count": null,
   "metadata": {
    "id": "hpml_kv6c48l"
   },
   "outputs": [],
   "source": [
    "#append new data\n",
    "sdata.append(updated_CID_link)\n",
    "with open('/content/drive/My Drive/helmet_detect/demo/safeReport.json', 'w') as f:\n",
    "      json.dump(sdata, f)"
   ]
  },
  {
   "cell_type": "code",
   "execution_count": 3,
   "metadata": {
    "id": "bdDG-iojc7Qe"
   },
   "outputs": [
    {
     "data": {
      "text/plain": [
       "[{'id': 1,\n",
       "  'status': 0,\n",
       "  'reportNum': 1,\n",
       "  'companyAddress': '00xb0a8416D9E6e30CeAD6a598Eef4Cc88d56b1EBAe',\n",
       "  'reportCID': 'https://gateway.pinata.cloud/ipfs/QmT64ufZzYvFHmhSinP2YNhCgHgNDnL1duzrm2rFk86Yrj'},\n",
       " {'id': 1,\n",
       "  'status': 0,\n",
       "  'reportNum': 2,\n",
       "  'companyAddress': '00xb0a8416D9E6e30CeAD6a598Eef4Cc88d56b1EBAe',\n",
       "  'reportCID': 'https://gateway.pinata.cloud/ipfs/QmQG8nhhTzPYq5K9RSrifgceSRSM4d2hzDx8eDPqSwSMSn'},\n",
       " {'id': 1,\n",
       "  'status': 0,\n",
       "  'reportNum': 3,\n",
       "  'companyAddress': '00xb0a8416D9E6e30CeAD6a598Eef4Cc88d56b1EBAe',\n",
       "  'reportCID': 'https://gateway.pinata.cloud/ipfs/QmUTZFVf58oKNab9HhCCt4tB2GnnEJfyiq8JJGyxUmfAvQ'},\n",
       " {'id': 1,\n",
       "  'status': 0,\n",
       "  'reportNum': 1,\n",
       "  'companyAddress': '0xA17Dab0082162079409fD87747CF3eBAd4BfD534',\n",
       "  'reportCID': 'https://gateway.pinata.cloud/ipfs/QmYNDftrD1hy1U4EkHhfQqLZGvH5nB6cYAGvoZKSntzPMQ'},\n",
       " {'id': 1,\n",
       "  'status': 0,\n",
       "  'reportNum': 2,\n",
       "  'companyAddress': '0xA17Dab0082162079409fD87747CF3eBAd4BfD534',\n",
       "  'reportCID': 'https://gateway.pinata.cloud/ipfs/Qmf1ETyt8btVSwFcrDXLeGF2gUQrTHP1SVDJPKs8nm6uvp'},\n",
       " {'id': 1,\n",
       "  'status': 0,\n",
       "  'reportNum': 3,\n",
       "  'companyAddress': '0xA17Dab0082162079409fD87747CF3eBAd4BfD534',\n",
       "  'reportCID': 'https://gateway.pinata.cloud/ipfs/QmSeYQbP1Bvb4MYENYBz2xz4oaA78znw1rNpXcJVMwejTx'},\n",
       " {'id': 1,\n",
       "  'status': 0,\n",
       "  'reportNum': 1,\n",
       "  'companyAddress': '0x4c8Db719e7037919647a59E380397A55c53dE4E4',\n",
       "  'reportCID': 'https://gateway.pinata.cloud/ipfs/QmTAFVPtBpSEA4zMjEiA2pgAB2Ydj9Se6u6fUuG4DZA8Ci'},\n",
       " {'id': 1,\n",
       "  'status': 0,\n",
       "  'reportNum': 2,\n",
       "  'companyAddress': '0x4c8Db719e7037919647a59E380397A55c53dE4E4',\n",
       "  'reportCID': 'https://gateway.pinata.cloud/ipfs/QmNfcPbfFrnUF2Uq9GRYhu94nSS65ELunVcqo59XNjQZVd'},\n",
       " {'id': 1,\n",
       "  'status': 0,\n",
       "  'reportNum': 3,\n",
       "  'companyAddress': '0x4c8Db719e7037919647a59E380397A55c53dE4E4',\n",
       "  'reportCID': 'https://gateway.pinata.cloud/ipfs/QmXQbB9ACrpie55TjGcoBUg3Xb1udM5MyYyMDuByjtrsHj'}]"
      ]
     },
     "execution_count": 3,
     "metadata": {},
     "output_type": "execute_result"
    }
   ],
   "source": [
    "#check the new updated data on safety report\n",
    "#the last link is the most up to date link for that data\n",
    "import json\n",
    "#below CID link show the sample of the generated report for each detections (9 reports in totals in this demo)\n",
    "s = open('/Users/reachsak/mainml/computerVisionModule/demo/safeReport.json')\n",
    "sdata=json.load(s)\n",
    "sdata"
   ]
  },
  {
   "cell_type": "code",
   "execution_count": null,
   "metadata": {
    "id": "XVbNaZudc9_b"
   },
   "outputs": [],
   "source": [
    "\n"
   ]
  },
  {
   "cell_type": "code",
   "execution_count": null,
   "metadata": {
    "id": "8sP7nDREc951"
   },
   "outputs": [],
   "source": []
  }
 ],
 "metadata": {
  "colab": {
   "collapsed_sections": [],
   "provenance": []
  },
  "kernelspec": {
   "display_name": "Python 3 (ipykernel)",
   "language": "python",
   "name": "python3"
  },
  "language_info": {
   "codemirror_mode": {
    "name": "ipython",
    "version": 3
   },
   "file_extension": ".py",
   "mimetype": "text/x-python",
   "name": "python",
   "nbconvert_exporter": "python",
   "pygments_lexer": "ipython3",
   "version": "3.10.4"
  }
 },
 "nbformat": 4,
 "nbformat_minor": 1
}
