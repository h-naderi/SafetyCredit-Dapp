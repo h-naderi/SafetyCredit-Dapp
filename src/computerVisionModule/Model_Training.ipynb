{
 "cells": [
  {
   "cell_type": "markdown",
   "metadata": {
    "id": "78iPeDEkZVDy"
   },
   "source": [
    "**Model Training**"
   ]
  },
  {
   "cell_type": "code",
   "execution_count": 1,
   "metadata": {
    "id": "v1ueDepGeX84"
   },
   "outputs": [],
   "source": [
    "pip install torch"
   ]
  },
  {
   "cell_type": "code",
   "execution_count": 1,
   "metadata": {
    "id": "Ln6Bd6FgeXuo"
   },
   "outputs": [],
   "source": [
    "pip install cuda-python"
   ]
  },
  {
   "cell_type": "code",
   "execution_count": null,
   "metadata": {
    "colab": {
     "base_uri": "https://localhost:8080/",
     "height": 37
    },
    "id": "Q13UpOmCYrI8",
    "outputId": "1fd2d986-970c-40e5-b3b0-1256b023e63e"
   },
   "outputs": [
    {
     "data": {
      "application/vnd.google.colaboratory.intrinsic+json": {
       "type": "string"
      },
      "text/plain": [
       "'Tesla T4'"
      ]
     },
     "execution_count": 29,
     "metadata": {},
     "output_type": "execute_result"
    }
   ],
   "source": [
    "import torch\n",
    "import numpy as np\n",
    "import pandas as pd\n",
    "import sklearn\n",
    "import matplotlib.pyplot as plt\n",
    "torch.cuda.get_device_name(0)\n",
    "#torch.cuda.get_device_name(1)"
   ]
  },
  {
   "cell_type": "code",
   "execution_count": null,
   "metadata": {
    "id": "wA-m_5KbY1CD"
   },
   "outputs": [],
   "source": [
    "#check cuda gpu setting \n",
    "!nvidia-smi"
   ]
  },
  {
   "cell_type": "markdown",
   "metadata": {
    "id": "B0Hip897a5ue"
   },
   "source": [
    "**Cloning YOLOV5**"
   ]
  },
  {
   "cell_type": "code",
   "execution_count": null,
   "metadata": {
    "colab": {
     "base_uri": "https://localhost:8080/"
    },
    "id": "wUzbr30VZVJ8",
    "outputId": "b95accfd-5a34-4e2e-a35c-1c862748cd46"
   },
   "outputs": [
    {
     "name": "stdout",
     "output_type": "stream",
     "text": [
      "Cloning into 'yolov5'...\n",
      "remote: Enumerating objects: 12652, done.\u001b[K\n",
      "remote: Counting objects: 100% (19/19), done.\u001b[K\n",
      "remote: Compressing objects: 100% (18/18), done.\u001b[K\n",
      "remote: Total 12652 (delta 6), reused 7 (delta 1), pack-reused 12633\u001b[K\n",
      "Receiving objects: 100% (12652/12652), 12.85 MiB | 4.85 MiB/s, done.\n",
      "Resolving deltas: 100% (8715/8715), done.\n"
     ]
    }
   ],
   "source": [
    "!git clone https://github.com/ultralytics/yolov5"
   ]
  },
  {
   "cell_type": "code",
   "execution_count": null,
   "metadata": {
    "id": "7NSHcQwRZVhh"
   },
   "outputs": [],
   "source": [
    "%cd yolov5"
   ]
  },
  {
   "cell_type": "markdown",
   "metadata": {
    "id": "Tp6enoyQa_Ci"
   },
   "source": [
    "**Install required dependencies**"
   ]
  },
  {
   "cell_type": "code",
   "execution_count": null,
   "metadata": {
    "id": "wGJXIVpMZXZ7"
   },
   "outputs": [],
   "source": [
    "!pip install -r requirements.txt"
   ]
  },
  {
   "cell_type": "markdown",
   "metadata": {
    "id": "wtzVuLU-ayd7"
   },
   "source": [
    "**Start training**\n"
   ]
  },
  {
   "cell_type": "code",
   "execution_count": null,
   "metadata": {},
   "outputs": [],
   "source": [
    "#dataset : use the dataset from training and validation folder (below link) for this training\n",
    "#https://drive.google.com/drive/folders/1qtN8mNCxzts1BvIVrpshjnRjpd3C1jLD?usp=sharing\n",
    "#in the customdataset.yaml , make sure to have the correct path to the actual images and labels dataset\n"
   ]
  },
  {
   "cell_type": "code",
   "execution_count": null,
   "metadata": {
    "id": "wSy7qf1TZXsO"
   },
   "outputs": [],
   "source": [
    "# single gpu training \n",
    "# make sure to set the correct path to train.py file from the cloned YOLOv5 folder and customdataset.yaml on your environment\n",
    "# The trained model wegiht and results will be saved to a directory mentioned inside train.py file. \n",
    "\n",
    "!python \"/content/drive/My Drive/helmet_detect/yolov5/train.py\" --img 640 --batch 32 --epochs 100  --data '/content/drive/My Drive/helmet_detect/yolov5/data/customdataset.yaml' --optimizer SGD --device 0  --weights yolov5s.pt  --cache --cfg yolov5s.yaml "
   ]
  },
  {
   "cell_type": "code",
   "execution_count": null,
   "metadata": {
    "id": "GLDlDGUFZYNw"
   },
   "outputs": [],
   "source": [
    "#the saved model weight best.pt will be used for the demo of the helmet dectection demo."
   ]
  },
  {
   "cell_type": "code",
   "execution_count": null,
   "metadata": {
    "id": "5tAVdsFxgP2E"
   },
   "outputs": [],
   "source": [
    "\n"
   ]
  },
  {
   "cell_type": "code",
   "execution_count": null,
   "metadata": {
    "id": "KsW5_GWEga3_"
   },
   "outputs": [],
   "source": []
  },
  {
   "cell_type": "code",
   "execution_count": null,
   "metadata": {
    "id": "TXfXAtI68J0n"
   },
   "outputs": [],
   "source": []
  },
  {
   "cell_type": "code",
   "execution_count": null,
   "metadata": {
    "id": "1NQWm4HVg0bH"
   },
   "outputs": [],
   "source": []
  }
 ],
 "metadata": {
  "accelerator": "GPU",
  "colab": {
   "collapsed_sections": [],
   "provenance": []
  },
  "kernelspec": {
   "display_name": "Python 3 (ipykernel)",
   "language": "python",
   "name": "python3"
  },
  "language_info": {
   "codemirror_mode": {
    "name": "ipython",
    "version": 3
   },
   "file_extension": ".py",
   "mimetype": "text/x-python",
   "name": "python",
   "nbconvert_exporter": "python",
   "pygments_lexer": "ipython3",
   "version": "3.10.4"
  }
 },
 "nbformat": 4,
 "nbformat_minor": 1
}
